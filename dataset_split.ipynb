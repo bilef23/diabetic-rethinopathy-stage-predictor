{
 "cells": [
  {
   "cell_type": "code",
   "execution_count": 3,
   "id": "initial_id",
   "metadata": {
    "collapsed": true,
    "ExecuteTime": {
     "end_time": "2024-02-14T16:25:46.938074Z",
     "start_time": "2024-02-14T16:25:46.933349Z"
    }
   },
   "outputs": [],
   "source": [
    "import pandas as pd \n",
    "import numpy as np\n",
    "from sklearn.model_selection import train_test_split\n",
    "import cv2\n",
    "import seaborn as sns"
   ]
  },
  {
   "cell_type": "code",
   "outputs": [],
   "source": [
    "df=pd.read_csv(\"Data/labels_one_hot.csv\")"
   ],
   "metadata": {
    "collapsed": false,
    "ExecuteTime": {
     "end_time": "2024-02-14T16:25:51.326277Z",
     "start_time": "2024-02-14T16:25:51.267630Z"
    }
   },
   "id": "b4bc2bf4d9049978",
   "execution_count": 4
  },
  {
   "cell_type": "code",
   "outputs": [
    {
     "name": "stderr",
     "output_type": "stream",
     "text": [
      "/var/folders/sk/5p85qfdj4gs6687j53mbs7rw0000gn/T/ipykernel_18610/147562193.py:1: FutureWarning: \n",
      "\n",
      "Passing `palette` without assigning `hue` is deprecated and will be removed in v0.14.0. Assign the `x` variable to `hue` and set `legend=False` for the same effect.\n",
      "\n",
      "  sns.barplot(x=df.drop(columns=['image']).columns, y=df.drop(columns=['image']).sum(),palette='colorblind')\n"
     ]
    },
    {
     "data": {
      "text/plain": "<Axes: xlabel='None', ylabel='None'>"
     },
     "execution_count": 3,
     "metadata": {},
     "output_type": "execute_result"
    },
    {
     "data": {
      "text/plain": "<Figure size 640x480 with 1 Axes>",
      "image/png": "[encoded data removed]"
     },
     "metadata": {},
     "output_type": "display_data"
    }
   ],
   "source": [
    "sns.barplot(x=df.drop(columns=['image']).columns, y=df.drop(columns=['image']).sum(),palette='colorblind')"
   ],
   "metadata": {
    "collapsed": false,
    "ExecuteTime": {
     "end_time": "2024-02-08T20:18:58.520193Z",
     "start_time": "2024-02-08T20:18:58.184864Z"
    }
   },
   "id": "2ed7d299435789ba",
   "execution_count": 3
  },
  {
   "cell_type": "code",
   "outputs": [
    {
     "data": {
      "text/plain": "image               1763_left18113_right1887_left14060_left18880_l...\nNo DR                                                           12355\nMild                                                             1126\nModerate                                                         2525\nSevere                                                            422\nProliferative DR                                                  324\ndtype: object"
     },
     "execution_count": 5,
     "metadata": {},
     "output_type": "execute_result"
    }
   ],
   "source": [
    "df.sum()"
   ],
   "metadata": {
    "collapsed": false,
    "ExecuteTime": {
     "end_time": "2024-02-14T16:25:58.433912Z",
     "start_time": "2024-02-14T16:25:58.400333Z"
    }
   },
   "id": "fc8cb6a18c6f5ada",
   "execution_count": 5
  },
  {
   "cell_type": "code",
   "outputs": [],
   "source": [
    "Train_X,Test_X,Train_Y,Test_Y=train_test_split(df['image'],df,test_size=0.2,random_state=27)"
   ],
   "metadata": {
    "collapsed": false,
    "ExecuteTime": {
     "end_time": "2024-02-14T16:26:02.590023Z",
     "start_time": "2024-02-14T16:26:02.580465Z"
    }
   },
   "id": "575437dd44c2d9a9",
   "execution_count": 6
  },
  {
   "cell_type": "code",
   "outputs": [
    {
     "data": {
      "text/plain": "image               26902_right15443_left16260_left14386_left13739...\nNo DR                                                            9929\nMild                                                              896\nModerate                                                         1991\nSevere                                                            337\nProliferative DR                                                  248\ndtype: object"
     },
     "execution_count": 10,
     "metadata": {},
     "output_type": "execute_result"
    }
   ],
   "source": [
    "Train_Y.sum()"
   ],
   "metadata": {
    "collapsed": false,
    "ExecuteTime": {
     "end_time": "2024-02-08T20:23:06.061002Z",
     "start_time": "2024-02-08T20:23:05.968141Z"
    }
   },
   "id": "2d3bf79764c9db17",
   "execution_count": 10
  },
  {
   "cell_type": "code",
   "outputs": [],
   "source": [
    "Test_Y.value_counts()"
   ],
   "metadata": {
    "collapsed": false
   },
   "id": "187cb99f81c6cd89",
   "execution_count": null
  },
  {
   "cell_type": "code",
   "outputs": [],
   "source": [
    "condition = (Train_Y['No DR'] == 1)\n",
    "rows_to_remove = Train_Y[condition].sample(frac=0.4, random_state=42).index"
   ],
   "metadata": {
    "collapsed": false,
    "ExecuteTime": {
     "end_time": "2024-02-14T16:26:11.709196Z",
     "start_time": "2024-02-14T16:26:11.703095Z"
    }
   },
   "id": "2d5c64d1f4053826",
   "execution_count": 7
  },
  {
   "cell_type": "code",
   "outputs": [],
   "source": [
    "Train_Y=Train_Y.drop(rows_to_remove)"
   ],
   "metadata": {
    "collapsed": false,
    "ExecuteTime": {
     "end_time": "2024-02-14T16:26:12.584368Z",
     "start_time": "2024-02-14T16:26:12.575959Z"
    }
   },
   "id": "2438019528d0b431",
   "execution_count": 8
  },
  {
   "cell_type": "code",
   "outputs": [],
   "source": [
    "Train_X=Train_Y['image']"
   ],
   "metadata": {
    "collapsed": false,
    "ExecuteTime": {
     "end_time": "2024-02-14T16:26:13.663623Z",
     "start_time": "2024-02-14T16:26:13.656700Z"
    }
   },
   "id": "7194622b5b66fcf",
   "execution_count": 9
  },
  {
   "cell_type": "code",
   "outputs": [
    {
     "data": {
      "text/plain": "2634      15443_left\n2395      16260_left\n7403      13739_left\n4052      10823_left\n3515     13125_right\n            ...     \n15897     10233_left\n4848      14262_left\n14879     26024_left\n3912       184_right\n5139      15450_left\nName: image, Length: 9429, dtype: object"
     },
     "execution_count": 13,
     "metadata": {},
     "output_type": "execute_result"
    }
   ],
   "source": [
    "Train_X"
   ],
   "metadata": {
    "collapsed": false,
    "ExecuteTime": {
     "end_time": "2024-02-14T16:27:26.515979Z",
     "start_time": "2024-02-14T16:27:26.422545Z"
    }
   },
   "id": "f97e08ed4e973a01",
   "execution_count": 13
  },
  {
   "cell_type": "code",
   "outputs": [],
   "source": [
    "train_images=[]\n",
    "for img in Train_X:\n",
    "    train_images.append(cv2.imread(\"Data/preprocessed/\"+img+\".jpg\"))"
   ],
   "metadata": {
    "collapsed": false,
    "ExecuteTime": {
     "end_time": "2024-02-14T16:31:53.902396Z",
     "start_time": "2024-02-14T16:31:46.990304Z"
    }
   },
   "id": "5c9d671622fd1c8a",
   "execution_count": 19
  },
  {
   "cell_type": "code",
   "outputs": [],
   "source": [
    "Train_Y.reset_index(drop=True,inplace=True)"
   ],
   "metadata": {
    "collapsed": false,
    "ExecuteTime": {
     "end_time": "2024-02-14T16:32:09.548893Z",
     "start_time": "2024-02-14T16:32:09.444434Z"
    }
   },
   "id": "2876b8ec4dafd303",
   "execution_count": 23
  },
  {
   "cell_type": "code",
   "outputs": [],
   "source": [
    "i=0\n",
    "j=0\n",
    "k=0\n",
    "train_images_oversampling=[img for img in train_images]\n",
    "train_y_oversampling=Train_Y.copy()"
   ],
   "metadata": {
    "collapsed": false,
    "ExecuteTime": {
     "end_time": "2024-02-14T17:35:26.158709Z",
     "start_time": "2024-02-14T17:35:26.135700Z"
    }
   },
   "id": "8098af86c2db99e4",
   "execution_count": 47
  },
  {
   "cell_type": "code",
   "outputs": [
    {
     "data": {
      "text/plain": "image               15443_left16260_left13739_left10823_left13125_...\nNo DR                                                            5957\nMild                                                              896\nModerate                                                         1991\nSevere                                                            337\nProliferative DR                                                  248\ndtype: object"
     },
     "execution_count": 48,
     "metadata": {},
     "output_type": "execute_result"
    }
   ],
   "source": [
    "train_y_oversampling.sum()"
   ],
   "metadata": {
    "collapsed": false,
    "ExecuteTime": {
     "end_time": "2024-02-14T17:35:33.815346Z",
     "start_time": "2024-02-14T17:35:33.800654Z"
    }
   },
   "id": "bf4c4082e7f95a59",
   "execution_count": 48
  },
  {
   "cell_type": "code",
   "outputs": [],
   "source": [
    "for index in range(0,len(Train_Y)):\n",
    "  if i<300 and Train_Y['Proliferative DR'][index]==1:\n",
    "    train_images_oversampling.append(train_images[index])\n",
    "    new_row={\n",
    "             'No DR':Train_Y['No DR'][index],'Mild':Train_Y['Mild'][index], \n",
    "             'Moderate':Train_Y['Moderate'][index],\n",
    "             'Severe':Train_Y['Severe'][index],\n",
    "             'Proliferative DR':Train_Y['Proliferative DR'][index]}\n",
    "    train_y_oversampling=train_y_oversampling._append(new_row,ignore_index=True)\n",
    "    i=i+1\n",
    "  if j<500 and Train_Y['Severe'][index]==1:\n",
    "    train_images_oversampling.append(train_images[index])\n",
    "    new_row={\n",
    "             'No DR':Train_Y['No DR'][index],'Mild':Train_Y['Mild'][index], \n",
    "             'Moderate':Train_Y['Moderate'][index],\n",
    "             'Severe':Train_Y['Severe'][index],\n",
    "             'Proliferative DR':Train_Y['Proliferative DR'][index]}\n",
    "    train_y_oversampling=train_y_oversampling._append(new_row,ignore_index=True)\n",
    "    j=j+1\n",
    "  if k<700 and Train_Y['Mild'][index]==1:\n",
    "    train_images_oversampling.append(train_images[index])\n",
    "    new_row={\n",
    "             'No DR':Train_Y['No DR'][index],'Mild':Train_Y['Mild'][index], \n",
    "             'Moderate':Train_Y['Moderate'][index],\n",
    "             'Severe':Train_Y['Severe'][index],\n",
    "             'Proliferative DR':Train_Y['Proliferative DR'][index]}\n",
    "    train_y_oversampling=train_y_oversampling._append(new_row,ignore_index=True)\n",
    "    k=k+1\n",
    "  if k>700 and i>300 and j>500:\n",
    "    break\n",
    "  "
   ],
   "metadata": {
    "collapsed": false,
    "ExecuteTime": {
     "end_time": "2024-02-14T17:36:21.648397Z",
     "start_time": "2024-02-14T17:36:20.715926Z"
    }
   },
   "id": "ceb0408da27af83c",
   "execution_count": 49
  },
  {
   "cell_type": "code",
   "outputs": [],
   "source": [
    "import random\n",
    "import math\n",
    "index_augmentation_4=[i for i in range(0,len(train_y_oversampling)) if train_y_oversampling['Proliferative DR'][i]==1]\n",
    "index_augmentation_3=[i for i in range(0,len(train_y_oversampling)) if train_y_oversampling['Severe'][i]==1]\n",
    "index_augmentation_2=[i for i in range(0,len(train_y_oversampling)) if train_y_oversampling['Moderate'][i]==1]\n",
    "index_augmentation_2=random.sample(index_augmentation_2, min(math.ceil(len(index_augmentation_2)*0.7), len(index_augmentation_2)))\n",
    "index_augmentation_1=[i for i in range(0,len(train_y_oversampling)) if train_y_oversampling['Mild'][i]==1]"
   ],
   "metadata": {
    "collapsed": false,
    "ExecuteTime": {
     "end_time": "2024-02-14T16:59:58.903127Z",
     "start_time": "2024-02-14T16:59:58.808296Z"
    }
   },
   "id": "925aaa7ea7279ebd",
   "execution_count": 38
  },
  {
   "cell_type": "code",
   "outputs": [
    {
     "data": {
      "text/plain": "No DR               5957\nMild                1596\nModerate            1991\nSevere               674\nProliferative DR     496\ndtype: int64"
     },
     "execution_count": 58,
     "metadata": {},
     "output_type": "execute_result"
    }
   ],
   "source": [
    "train_y_oversampling.sum()"
   ],
   "metadata": {
    "collapsed": false,
    "ExecuteTime": {
     "end_time": "2024-02-14T17:37:45.322273Z",
     "start_time": "2024-02-14T17:37:45.299203Z"
    }
   },
   "id": "6f99f699ffddda9",
   "execution_count": 58
  },
  {
   "cell_type": "code",
   "outputs": [],
   "source": [
    "def data_augmentation(index):\n",
    "    img = train_images_oversampling[index]\n",
    "    angle = np.random.uniform(-20, 20)\n",
    "    rotation_matrix = cv2.getRotationMatrix2D((img.shape[1] // 3, img.shape[0] // 3), angle, 1.0)\n",
    "    img = cv2.warpAffine(img, rotation_matrix, (img.shape[1], img.shape[0]))\n",
    "    new_row={'No DR':train_y_oversampling['No DR'][index],'Mild':train_y_oversampling['Mild'][index], 'Moderate':train_y_oversampling['Moderate'][index],'Severe':train_y_oversampling['Severe'][index], 'Proliferative DR':train_y_oversampling['Proliferative DR'][index]}\n",
    "    train_images_oversampling.append(img)\n",
    "    return new_row"
   ],
   "metadata": {
    "collapsed": false,
    "ExecuteTime": {
     "end_time": "2024-02-14T17:38:38.430062Z",
     "start_time": "2024-02-14T17:38:38.424024Z"
    }
   },
   "id": "32a0632221a25cf5",
   "execution_count": 61
  },
  {
   "cell_type": "code",
   "outputs": [],
   "source": [
    "for subset in [index_augmentation_1,index_augmentation_2,index_augmentation_3,index_augmentation_4]:\n",
    "    for index in subset:\n",
    "        train_y_oversampling=train_y_oversampling._append(data_augmentation(index),ignore_index=True)"
   ],
   "metadata": {
    "collapsed": false,
    "ExecuteTime": {
     "end_time": "2024-02-14T17:38:47.454643Z",
     "start_time": "2024-02-14T17:38:39.200004Z"
    }
   },
   "id": "3352316eb2e9238",
   "execution_count": 62
  },
  {
   "cell_type": "code",
   "outputs": [],
   "source": [
    "train_y_oversampling.drop(columns=['image'],inplace=True)\n",
    "Test_Y.drop(columns=['image'],inplace=True)"
   ],
   "metadata": {
    "collapsed": false,
    "ExecuteTime": {
     "end_time": "2024-02-14T17:03:27.434780Z",
     "start_time": "2024-02-14T17:03:27.430406Z"
    }
   },
   "id": "cb9c6de97a379b06",
   "execution_count": 44
  },
  {
   "cell_type": "code",
   "outputs": [
    {
     "data": {
      "text/plain": "No DR               5957\nMild                3192\nModerate            3385\nSevere              1348\nProliferative DR     992\ndtype: int64"
     },
     "execution_count": 63,
     "metadata": {},
     "output_type": "execute_result"
    }
   ],
   "source": [
    "train_y_oversampling.sum()"
   ],
   "metadata": {
    "collapsed": false,
    "ExecuteTime": {
     "end_time": "2024-02-14T17:38:50.655243Z",
     "start_time": "2024-02-14T17:38:50.630431Z"
    }
   },
   "id": "3314424e612b3a56",
   "execution_count": 63
  },
  {
   "cell_type": "code",
   "outputs": [],
   "source": [
    "np.save(\"Train_X_whole.npy\",np.array(train_images_oversampling))\n"
   ],
   "metadata": {
    "collapsed": false,
    "ExecuteTime": {
     "end_time": "2024-02-09T10:05:06.243855Z",
     "start_time": "2024-02-09T10:04:12.465741Z"
    }
   },
   "id": "6702149a34ff109c",
   "execution_count": 86
  },
  {
   "cell_type": "code",
   "outputs": [],
   "source": [
    "train_y_oversampling.to_csv(\"Train_Y_whole.csv\",index=False)"
   ],
   "metadata": {
    "collapsed": false,
    "ExecuteTime": {
     "end_time": "2024-02-09T10:05:24.280488Z",
     "start_time": "2024-02-09T10:05:24.203550Z"
    }
   },
   "id": "db612a89b2ccaa22",
   "execution_count": 87
  },
  {
   "cell_type": "code",
   "outputs": [],
   "source": [
    "test_images=[]\n",
    "for img in Test_X:\n",
    "    test_images.append(cv2.imread(\"Data/preprocessed/\"+img+\".jpg\"))"
   ],
   "metadata": {
    "collapsed": false,
    "ExecuteTime": {
     "end_time": "2024-02-08T20:27:31.022380Z",
     "start_time": "2024-02-08T20:27:26.013339Z"
    }
   },
   "id": "db99af8127213da4",
   "execution_count": 36
  },
  {
   "cell_type": "code",
   "outputs": [],
   "source": [
    "np.save(\"Test_X_2.npy\",np.array(test_images))\n",
    "\n",
    "Test_Y.to_csv(\"Test_Y_2.csv\",index=False)"
   ],
   "metadata": {
    "collapsed": false,
    "ExecuteTime": {
     "end_time": "2024-02-08T20:28:02.145625Z",
     "start_time": "2024-02-08T20:28:00.539973Z"
    }
   },
   "id": "63c571e187ac49cd",
   "execution_count": 37
  },
  {
   "cell_type": "code",
   "outputs": [],
   "source": [],
   "metadata": {
    "collapsed": false
   },
   "id": "3fd25088cb6e40eb"
  }
 ],
 "metadata": {
  "kernelspec": {
   "display_name": "Python 3",
   "language": "python",
   "name": "python3"
  },
  "language_info": {
   "codemirror_mode": {
    "name": "ipython",
    "version": 2
   },
   "file_extension": ".py",
   "mimetype": "text/x-python",
   "name": "python",
   "nbconvert_exporter": "python",
   "pygments_lexer": "ipython2",
   "version": "2.7.6"
  }
 },
 "nbformat": 4,
 "nbformat_minor": 5
}
